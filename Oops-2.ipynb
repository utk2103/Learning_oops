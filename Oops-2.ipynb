{
 "cells": [
  {
   "cell_type": "markdown",
   "id": "9c374c75",
   "metadata": {},
   "source": [
    "### Magic method\n",
    "\n",
    "Is a special method and every magic method as its own functionality \n",
    "- Used to create own datatype"
   ]
  },
  {
   "cell_type": "code",
   "execution_count": 6,
   "id": "41df00e1",
   "metadata": {},
   "outputs": [
    {
     "name": "stdout",
     "output_type": "stream",
     "text": [
      "2096248221520\n",
      "Hello\n"
     ]
    },
    {
     "data": {
      "text/plain": [
       "2096248221520"
      ]
     },
     "execution_count": 6,
     "metadata": {},
     "output_type": "execute_result"
    }
   ],
   "source": [
    "class Temp:\n",
    "    \n",
    "    def __init__(self):\n",
    "        print(id(self))\n",
    "        print('Hello')\n",
    "        \n",
    "obj = Temp()    \n",
    "id(obj)"
   ]
  },
  {
   "cell_type": "markdown",
   "id": "b53a90e5",
   "metadata": {},
   "source": [
    "#### Benefits of constructor\n",
    "\n",
    "- Automatically execute hota hai\n",
    "- So you can put that thing in a constructor that you don't wish to have a change in by user\n",
    "- used in configuration like in backened services you load a database so you have to put it into constructor"
   ]
  },
  {
   "cell_type": "markdown",
   "id": "559de37f",
   "metadata": {},
   "source": [
    "### Self\n",
    "- If we see above we can see that obj and self has same memory address\n",
    "- So self is nothing but it is an obj\n",
    "- we know that in a class no two function can interact with each other\n",
    "- so we make a indirect way and use self"
   ]
  },
  {
   "cell_type": "code",
   "execution_count": 8,
   "id": "0ebf213c",
   "metadata": {},
   "outputs": [],
   "source": [
    "# Make our own datatype"
   ]
  },
  {
   "cell_type": "code",
   "execution_count": 42,
   "id": "e0f4ede6",
   "metadata": {},
   "outputs": [],
   "source": [
    "class fraction:\n",
    "    \n",
    "    #Paramerized constructor\n",
    "    def __init__(self,x,y):\n",
    "        self.num = x\n",
    "        self.den = y\n",
    "     \n",
    "    # to make user show how obj look\n",
    "    def __str__(self):\n",
    "        return '{}/{}'.format(self.num,self.den)\n",
    "    \n",
    "    def __add__(self,other):\n",
    "        new_num = self.num*other.den + other.num*self.den\n",
    "        new_den = self.den*other.den\n",
    "        return '{}/{}'.format(new_num,new_den)\n",
    "    \n",
    "    def __sub__(self,other):\n",
    "        new_num = self.num*other.den - other.num*self.den\n",
    "        new_den = self.den*other.den\n",
    "        return '{}/{}'.format(new_num,new_den)\n",
    "    \n",
    "    \n",
    "    def __mul__(self,other):\n",
    "        new_num = self.num*other.num\n",
    "        new_den = self.den*other.den\n",
    "        return '{}/{}'.format(new_num,new_den)\n",
    "    \n",
    "    def __truediv__(self,other):\n",
    "        new_num = self.num*other.den\n",
    "        new_den = self.den*other.num\n",
    "        return '{}/{}'.format(new_num,new_den)\n",
    "    "
   ]
  },
  {
   "cell_type": "code",
   "execution_count": 43,
   "id": "9b1e087f",
   "metadata": {},
   "outputs": [],
   "source": [
    "fr1 = fraction(3,4)\n",
    "fr2 = fraction(1,2)"
   ]
  },
  {
   "cell_type": "code",
   "execution_count": 44,
   "id": "5cc96dcf",
   "metadata": {
    "scrolled": true
   },
   "outputs": [
    {
     "name": "stdout",
     "output_type": "stream",
     "text": [
      "3/4\n",
      "1/2\n"
     ]
    }
   ],
   "source": [
    "print(fr1)\n",
    "print(fr2)"
   ]
  },
  {
   "cell_type": "code",
   "execution_count": 45,
   "id": "93ef5b7c",
   "metadata": {},
   "outputs": [
    {
     "name": "stdout",
     "output_type": "stream",
     "text": [
      "10/8\n",
      "2/8\n",
      "3/8\n",
      "6/4\n"
     ]
    }
   ],
   "source": [
    "#add\n",
    "print(fr1 + fr2)\n",
    "#sub\n",
    "print(fr1 - fr2)\n",
    "#mul\n",
    "print(fr1 * fr2)\n",
    "#div\n",
    "print (fr1 / fr2)\n"
   ]
  },
  {
   "cell_type": "code",
   "execution_count": null,
   "id": "6166ede6",
   "metadata": {},
   "outputs": [],
   "source": []
  }
 ],
 "metadata": {
  "kernelspec": {
   "display_name": "Python 3 (ipykernel)",
   "language": "python",
   "name": "python3"
  },
  "language_info": {
   "codemirror_mode": {
    "name": "ipython",
    "version": 3
   },
   "file_extension": ".py",
   "mimetype": "text/x-python",
   "name": "python",
   "nbconvert_exporter": "python",
   "pygments_lexer": "ipython3",
   "version": "3.10.9"
  }
 },
 "nbformat": 4,
 "nbformat_minor": 5
}
