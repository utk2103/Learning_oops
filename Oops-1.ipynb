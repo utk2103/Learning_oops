{
 "cells": [
  {
   "cell_type": "code",
   "execution_count": 2,
   "id": "86b2c771",
   "metadata": {},
   "outputs": [
    {
     "ename": "AttributeError",
     "evalue": "'str' object has no attribute 'appened'",
     "output_type": "error",
     "traceback": [
      "\u001b[1;31m---------------------------------------------------------------------------\u001b[0m",
      "\u001b[1;31mAttributeError\u001b[0m                            Traceback (most recent call last)",
      "Cell \u001b[1;32mIn[2], line 2\u001b[0m\n\u001b[0;32m      1\u001b[0m s \u001b[38;5;241m=\u001b[39m \u001b[38;5;124m'\u001b[39m\u001b[38;5;124mHello\u001b[39m\u001b[38;5;124m'\u001b[39m\n\u001b[1;32m----> 2\u001b[0m \u001b[43ms\u001b[49m\u001b[38;5;241;43m.\u001b[39;49m\u001b[43mappened\u001b[49m(\u001b[38;5;124m'\u001b[39m\u001b[38;5;124mx\u001b[39m\u001b[38;5;124m'\u001b[39m)\n",
      "\u001b[1;31mAttributeError\u001b[0m: 'str' object has no attribute 'appened'"
     ]
    }
   ],
   "source": [
    "s = 'Hello'\n",
    "s.appened('x')"
   ]
  },
  {
   "cell_type": "code",
   "execution_count": 1,
   "id": "c5ae10a9",
   "metadata": {},
   "outputs": [],
   "source": [
    "# object is an instance of class\n",
    "\n",
    "# class are of two type \n",
    "# user defined class\n",
    "# Built in class"
   ]
  },
  {
   "cell_type": "code",
   "execution_count": 3,
   "id": "b3d3d17a",
   "metadata": {},
   "outputs": [
    {
     "name": "stdout",
     "output_type": "stream",
     "text": [
      "<class 'list'>\n"
     ]
    }
   ],
   "source": [
    "L = [1,2,3]\n",
    "print(type(L))"
   ]
  },
  {
   "cell_type": "code",
   "execution_count": 3,
   "id": "c1da4b2e",
   "metadata": {},
   "outputs": [],
   "source": [
    "s= [1,2,3]"
   ]
  },
  {
   "cell_type": "code",
   "execution_count": 4,
   "id": "e767196a",
   "metadata": {},
   "outputs": [],
   "source": [
    "# syntax to create an object\n",
    "\n",
    "# objectname = classname()"
   ]
  },
  {
   "cell_type": "code",
   "execution_count": 5,
   "id": "1737d2a8",
   "metadata": {},
   "outputs": [],
   "source": [
    "#object literal \n",
    "L =[1,2,3]"
   ]
  },
  {
   "cell_type": "code",
   "execution_count": 7,
   "id": "5446b86a",
   "metadata": {},
   "outputs": [
    {
     "data": {
      "text/plain": [
       "[]"
      ]
     },
     "execution_count": 7,
     "metadata": {},
     "output_type": "execute_result"
    }
   ],
   "source": [
    "L = list()\n",
    "L"
   ]
  },
  {
   "cell_type": "code",
   "execution_count": 9,
   "id": "a7750bd6",
   "metadata": {},
   "outputs": [
    {
     "data": {
      "text/plain": [
       "''"
      ]
     },
     "execution_count": 9,
     "metadata": {},
     "output_type": "execute_result"
    }
   ],
   "source": [
    "s = str()\n",
    "s"
   ]
  },
  {
   "cell_type": "code",
   "execution_count": null,
   "id": "b3433214",
   "metadata": {},
   "outputs": [],
   "source": [
    "#Pascal case\n",
    "\n",
    "HelloWorld   #you add words where each word start with capital letter"
   ]
  },
  {
   "cell_type": "code",
   "execution_count": 2,
   "id": "5449a9e5",
   "metadata": {},
   "outputs": [],
   "source": [
    "class Atm:\n",
    "    \n",
    "    # constructor(special function which doesn't need to call explicitily)-- a function inside the class\n",
    "    def __init__(self):     # init to initilise the class\n",
    "        self.pin =''\n",
    "        self.balance = 0\n",
    "        self.menu()\n",
    "    \n",
    "    def menu(self): \n",
    "        user_input = input(\"\"\"\n",
    "        Hi how can i help you?\n",
    "        1. Press 1 to create pin\n",
    "        2. Press 2 to change pin\n",
    "        3. Press 3 to check balance\n",
    "        4. Press 4 to withdraw\n",
    "        5. Anything else to exit\n",
    "        \"\"\")\n",
    "        \n",
    "        if user_input == '1':\n",
    "            #create pin\n",
    "            self.create_pin()\n",
    "        elif user_input == '2':\n",
    "            #change pin\n",
    "            self.change_pin()\n",
    "        elif user_input == '3':\n",
    "            #check balance\n",
    "            self.check_balance()\n",
    "        elif user_input == '4':\n",
    "            #withdraw cash\n",
    "            self.withdraw()\n",
    "        else:\n",
    "            exit()\n",
    "            \n",
    "    def create_pin(self):\n",
    "        user_pin = input('Enter your pin')\n",
    "        self.pin =user_pin\n",
    "        \n",
    "        #we do not have server having balance of user\n",
    "        user_balance = int(input('Enter balance'))\n",
    "        self.balance = user_balance\n",
    "        \n",
    "        print('Pin created successfully')\n",
    "        self.menu()\n",
    "        \n",
    "        \n",
    "    def change_pin(self):\n",
    "        current_pin = input('Enter your current pin')\n",
    "        \n",
    "        if current_pin == self.pin:\n",
    "             # let him change the pin\n",
    "            new_pin = input('Enter your new pin')\n",
    "            self.pin = new_pin\n",
    "    \n",
    "                \n",
    "            print('Pin changed successfully')\n",
    "        else:\n",
    "            print(\"You can't change the pin\")\n",
    "        self.menu()\n",
    "        \n",
    "    def withdraw(self):\n",
    "        user_pin = input('Enter your pin')\n",
    "        if user_pin == self.pin:\n",
    "            #allow to withdraw money      \n",
    "            amount = int(input('Enter the amount you want to withdraw'))\n",
    "            if amount <= self.balance:\n",
    "                self.balance = self.balance - amount\n",
    "                print('Money withdrawn successfully, remaining balance',self.balance)\n",
    "               \n",
    "            else:\n",
    "                print('You have insufficient balance')\n",
    "        else:\n",
    "            print('You entered incorrect pin')        \n",
    "        self.menu()   \n",
    "            \n",
    "    def check_balance(self):\n",
    "        user_pin = input('Enter your pin')\n",
    "        if user_pin == self.pin:\n",
    "            print('Your balance is',self.balance)\n",
    "        else:\n",
    "            print('Your pin is incorrect')\n",
    "            self.menu()"
   ]
  },
  {
   "cell_type": "code",
   "execution_count": 41,
   "id": "9a486949",
   "metadata": {},
   "outputs": [],
   "source": [
    "# withput pass i got an identation error"
   ]
  },
  {
   "cell_type": "code",
   "execution_count": null,
   "id": "0e8c968c",
   "metadata": {},
   "outputs": [
    {
     "name": "stdout",
     "output_type": "stream",
     "text": [
      "\n",
      "        Hi how can i help you?\n",
      "        1. Press 1 to create pin\n",
      "        2. Press 2 to change pin\n",
      "        3. Press 3 to check balance\n",
      "        4. Press 4 to withdraw\n",
      "        5. Anything else to exit\n",
      "        1\n",
      "Enter your pin1233\n",
      "Enter balance10000\n",
      "Pin created successfully\n",
      "\n",
      "        Hi how can i help you?\n",
      "        1. Press 1 to create pin\n",
      "        2. Press 2 to change pin\n",
      "        3. Press 3 to check balance\n",
      "        4. Press 4 to withdraw\n",
      "        5. Anything else to exit\n",
      "        4\n",
      "Enter your pin1233\n",
      "Enter the amount you want to withdraw7600\n",
      "Money withdrawn successfully, remaining balance 2400\n"
     ]
    }
   ],
   "source": [
    "# you have to make a object in order to run a class\n",
    "# creation of object\n",
    "obj = Atm()"
   ]
  },
  {
   "cell_type": "code",
   "execution_count": 12,
   "id": "60e21171",
   "metadata": {},
   "outputs": [
    {
     "name": "stdout",
     "output_type": "stream",
     "text": [
      "<class '__main__.Atm'>\n"
     ]
    }
   ],
   "source": [
    "print(type(obj))"
   ]
  },
  {
   "cell_type": "code",
   "execution_count": null,
   "id": "5105c070",
   "metadata": {},
   "outputs": [],
   "source": [
    "L =[1,2,3,4]\n",
    "list(L)  # function -> because it is called outside the class\n",
    "L.append(4)  #Methods -> because it is called inside the class"
   ]
  }
 ],
 "metadata": {
  "kernelspec": {
   "display_name": "Python 3 (ipykernel)",
   "language": "python",
   "name": "python3"
  },
  "language_info": {
   "codemirror_mode": {
    "name": "ipython",
    "version": 3
   },
   "file_extension": ".py",
   "mimetype": "text/x-python",
   "name": "python",
   "nbconvert_exporter": "python",
   "pygments_lexer": "ipython3",
   "version": "3.10.9"
  }
 },
 "nbformat": 4,
 "nbformat_minor": 5
}
