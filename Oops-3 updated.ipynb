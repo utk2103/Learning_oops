{
 "cells": [
  {
   "cell_type": "markdown",
   "id": "6f25e159",
   "metadata": {},
   "source": [
    "###  Write OOP classes to handle the following scenarios:\n",
    "\n",
    "- create and view 2D coordinates\n",
    "- find out the distance between 2 coordinates\n",
    "- find the distance of a coordinate from origin\n",
    "- check if a point lies on a given line\n",
    "- find the distance b/w a given 2D point and given line"
   ]
  },
  {
   "cell_type": "code",
   "execution_count": 1,
   "id": "15e98dfe",
   "metadata": {},
   "outputs": [
    {
     "data": {
      "text/plain": [
       "16"
      ]
     },
     "execution_count": 1,
     "metadata": {},
     "output_type": "execute_result"
    }
   ],
   "source": [
    "2**4"
   ]
  },
  {
   "cell_type": "code",
   "execution_count": 2,
   "id": "0c828edc",
   "metadata": {},
   "outputs": [
    {
     "data": {
      "text/plain": [
       "2.0"
      ]
     },
     "execution_count": 2,
     "metadata": {},
     "output_type": "execute_result"
    }
   ],
   "source": [
    "4**0.5"
   ]
  },
  {
   "cell_type": "code",
   "execution_count": 11,
   "id": "9adfbfe7",
   "metadata": {},
   "outputs": [
    {
     "ename": "SyntaxError",
     "evalue": "duplicate argument 'line' in function definition (150767772.py, line 47)",
     "output_type": "error",
     "traceback": [
      "\u001b[1;36m  Cell \u001b[1;32mIn[11], line 47\u001b[1;36m\u001b[0m\n\u001b[1;33m    def intersection_of_lines(line,line):\u001b[0m\n\u001b[1;37m                                   ^\u001b[0m\n\u001b[1;31mSyntaxError\u001b[0m\u001b[1;31m:\u001b[0m duplicate argument 'line' in function definition\n"
     ]
    }
   ],
   "source": [
    "class Point:\n",
    "    \n",
    "    def __init__(self,x,y):\n",
    "        self.x_cod = x\n",
    "        self.y_cod = y\n",
    "        \n",
    "     #to print\n",
    "    def __str__(self):\n",
    "        return '<{},{}>'.format(self.x_cod,self.y_cod)\n",
    "    \n",
    "    def euclidean_distance(self,other):\n",
    "        return ((self.x_cod - other.x_cod)**2 + (self.y_cod - other.y_cod)**2)**0.5\n",
    "    \n",
    "    def distance_from_origin(self):\n",
    "        # return (self.x_cod**2 - self.y_cod**2)**0.5\n",
    "        return self.euclidean_distance(Point(0,0))\n",
    "    \n",
    "class line:\n",
    "        \n",
    "        def __init__(self,A,B,C):\n",
    "            self.A = A\n",
    "            self.B = B\n",
    "            self.C = C\n",
    "            \n",
    "        def __str__(self):\n",
    "            return '{}x + {}y + {} = 0'.format(self.A,self.B,self.C)\n",
    "        \n",
    "        def point_on_line(line,point):\n",
    "            if line.A*point.x_cod + line.B*point.y_cod + line.C == 0:\n",
    "                return \"Point lies on line\"\n",
    "            else:\n",
    "                return \"Does not lie on line\"\n",
    "            \n",
    "        def shortest_distance(line,point):\n",
    "            return abs(line.A*point.x_cod + line.B*point.y_cod + line.C)/(line.A**2 + line.B**2)\n",
    "        \n",
    "        \"\"\"class line2:\n",
    "         def __init__(self,D,E,F):\n",
    "             self.D = D\n",
    "             self.E = E\n",
    "             self.F = F\n",
    "            \n",
    "        def __str__(self):\n",
    "             return '{}x + {}y + {} = 0'.format(self.D,self.E,self.F)  \"\"\"\n",
    "        \n",
    "        \n",
    "#         def intersection_of_lines(line,line):\n",
    "#             if line.A/line.D == line.B/line.E != line.C/line.F:\n",
    "#                 return \"Lines are not intersecting\"\n",
    "#             else:\n",
    "#                 return \"Lines are intersecting\"\n"
   ]
  },
  {
   "cell_type": "code",
   "execution_count": 30,
   "id": "1d8c422a",
   "metadata": {},
   "outputs": [
    {
     "name": "stdout",
     "output_type": "stream",
     "text": [
      "1x + 1y + -2 = 0\n",
      "<1,1>\n"
     ]
    },
    {
     "data": {
      "text/plain": [
       "0.0"
      ]
     },
     "execution_count": 30,
     "metadata": {},
     "output_type": "execute_result"
    }
   ],
   "source": [
    "l1 = line(1,1,-2)\n",
    "p1 = Point(1,1)\n",
    "\n",
    "print(l1)\n",
    "print(p1)\n",
    "\n",
    "#to check\n",
    "l1.shortest_distance(p1)"
   ]
  },
  {
   "cell_type": "code",
   "execution_count": 14,
   "id": "fa2597e8",
   "metadata": {},
   "outputs": [
    {
     "data": {
      "text/plain": [
       "3.1622776601683795"
      ]
     },
     "execution_count": 14,
     "metadata": {},
     "output_type": "execute_result"
    }
   ],
   "source": [
    "p1 = Point(1,3)\n",
    "p2 = Point(2,4) \n",
    "# <x,y>\n",
    "#p1.euclidean_distance(p2)\n",
    "p1.distance_from_origin()"
   ]
  },
  {
   "cell_type": "code",
   "execution_count": 6,
   "id": "64d170b3",
   "metadata": {},
   "outputs": [
    {
     "name": "stdout",
     "output_type": "stream",
     "text": [
      "1x + 2y + 3 = 0\n",
      "2x + 4y + 5 = 0\n"
     ]
    },
    {
     "ename": "AttributeError",
     "evalue": "'line' object has no attribute 'intersection_of_lines'",
     "output_type": "error",
     "traceback": [
      "\u001b[1;31m---------------------------------------------------------------------------\u001b[0m",
      "\u001b[1;31mAttributeError\u001b[0m                            Traceback (most recent call last)",
      "Cell \u001b[1;32mIn[6], line 7\u001b[0m\n\u001b[0;32m      4\u001b[0m \u001b[38;5;28mprint\u001b[39m(l1)\n\u001b[0;32m      5\u001b[0m \u001b[38;5;28mprint\u001b[39m(l2)\n\u001b[1;32m----> 7\u001b[0m \u001b[43ml1\u001b[49m\u001b[38;5;241;43m.\u001b[39;49m\u001b[43mintersection_of_lines\u001b[49m(l2)\n",
      "\u001b[1;31mAttributeError\u001b[0m: 'line' object has no attribute 'intersection_of_lines'"
     ]
    }
   ],
   "source": [
    "l1 = line(1,2,3)\n",
    "l2 = line(2,4,5)\n",
    "\n",
    "print(l1)\n",
    "print(l2)\n",
    "\n",
    "l1.intersection_of_lines(l2)"
   ]
  },
  {
   "cell_type": "markdown",
   "id": "c85664ca",
   "metadata": {},
   "source": [
    "### How object access attributes"
   ]
  },
  {
   "cell_type": "code",
   "execution_count": 53,
   "id": "9ca81ad7",
   "metadata": {},
   "outputs": [],
   "source": [
    "class Person:\n",
    "\n",
    "    def __init__(self,name_input,country_input):\n",
    "        self.name = name_input\n",
    "        self.country = country_input\n",
    "\n",
    "    def greet(self):\n",
    "        if self.country == 'india':\n",
    "            print('Namaste',self.name)\n",
    "        else:\n",
    "            print('Hello',self.name) "
   ]
  },
  {
   "cell_type": "code",
   "execution_count": 54,
   "id": "9757de5f",
   "metadata": {},
   "outputs": [],
   "source": [
    "# how to access attributes\n",
    "p = Person('utkarsh','india')"
   ]
  },
  {
   "cell_type": "code",
   "execution_count": 55,
   "id": "0573a3b1",
   "metadata": {},
   "outputs": [
    {
     "data": {
      "text/plain": [
       "'utkarsh'"
      ]
     },
     "execution_count": 55,
     "metadata": {},
     "output_type": "execute_result"
    }
   ],
   "source": [
    "p.name"
   ]
  },
  {
   "cell_type": "code",
   "execution_count": 56,
   "id": "e90bfda0",
   "metadata": {},
   "outputs": [
    {
     "name": "stdout",
     "output_type": "stream",
     "text": [
      "Namaste utkarsh\n"
     ]
    }
   ],
   "source": [
    "# how to access methods\n",
    "p.greet()"
   ]
  },
  {
   "cell_type": "code",
   "execution_count": 57,
   "id": "2f98eb45",
   "metadata": {
    "scrolled": true
   },
   "outputs": [
    {
     "ename": "AttributeError",
     "evalue": "'Person' object has no attribute 'gender'",
     "output_type": "error",
     "traceback": [
      "\u001b[1;31m---------------------------------------------------------------------------\u001b[0m",
      "\u001b[1;31mAttributeError\u001b[0m                            Traceback (most recent call last)",
      "Cell \u001b[1;32mIn[57], line 2\u001b[0m\n\u001b[0;32m      1\u001b[0m \u001b[38;5;66;03m# what if i try to access non-existent attributes\u001b[39;00m\n\u001b[1;32m----> 2\u001b[0m \u001b[43mp\u001b[49m\u001b[38;5;241;43m.\u001b[39;49m\u001b[43mgender\u001b[49m\n",
      "\u001b[1;31mAttributeError\u001b[0m: 'Person' object has no attribute 'gender'"
     ]
    }
   ],
   "source": [
    "# what if i try to access non-existent attributes\n",
    "p.gender"
   ]
  },
  {
   "cell_type": "markdown",
   "id": "f235fc57",
   "metadata": {},
   "source": [
    "### Attribute creation from outside of the class"
   ]
  },
  {
   "cell_type": "code",
   "execution_count": 58,
   "id": "f66fea83",
   "metadata": {},
   "outputs": [],
   "source": [
    "p.gender = 'male'"
   ]
  },
  {
   "cell_type": "code",
   "execution_count": 59,
   "id": "827155e0",
   "metadata": {},
   "outputs": [
    {
     "data": {
      "text/plain": [
       "'male'"
      ]
     },
     "execution_count": 59,
     "metadata": {},
     "output_type": "execute_result"
    }
   ],
   "source": [
    "p.gender"
   ]
  },
  {
   "cell_type": "markdown",
   "id": "d7e2657d",
   "metadata": {},
   "source": [
    "### Reference Variables\n",
    "\n",
    "- Reference variables hold the objects\n",
    "- We can create objects without reference variable as well\n",
    "- An object can have multiple reference variables\n",
    "- Assigning a new reference variable to an existing object does not create a new object"
   ]
  },
  {
   "cell_type": "code",
   "execution_count": 64,
   "id": "90a9a58b",
   "metadata": {},
   "outputs": [],
   "source": [
    "# object without a reference\n",
    "class Person:\n",
    "\n",
    "  def __init__(self):\n",
    "    self.name = 'Utkarsh'\n",
    "    self.gender = 'male'\n",
    "\n",
    "p = Person()\n",
    "q = p"
   ]
  },
  {
   "cell_type": "code",
   "execution_count": 65,
   "id": "4fdf0531",
   "metadata": {},
   "outputs": [
    {
     "name": "stdout",
     "output_type": "stream",
     "text": [
      "2200830006640\n",
      "2200830006640\n"
     ]
    }
   ],
   "source": [
    "# Multiple ref\n",
    "print(id(p))\n",
    "print(id(q))"
   ]
  },
  {
   "cell_type": "code",
   "execution_count": 62,
   "id": "3ecbd081",
   "metadata": {},
   "outputs": [],
   "source": [
    "# change attribute value with the help of 2nd object"
   ]
  },
  {
   "cell_type": "code",
   "execution_count": 66,
   "id": "841b7708",
   "metadata": {},
   "outputs": [
    {
     "name": "stdout",
     "output_type": "stream",
     "text": [
      "Utkarsh\n",
      "Utkarsh\n",
      "shikhar\n",
      "shikhar\n"
     ]
    }
   ],
   "source": [
    "print(p.name)\n",
    "print(q.name)\n",
    "q.name = 'shikhar'\n",
    "print(q.name)\n",
    "print(p.name)"
   ]
  },
  {
   "cell_type": "markdown",
   "id": "06aa84f4",
   "metadata": {},
   "source": [
    "### Pass by reference"
   ]
  },
  {
   "cell_type": "code",
   "execution_count": 68,
   "id": "7cd26419",
   "metadata": {},
   "outputs": [
    {
     "name": "stdout",
     "output_type": "stream",
     "text": [
      "Hi my name is Utkarsh and I am a male\n",
      "shikhar\n",
      "male\n"
     ]
    }
   ],
   "source": [
    "class Person:\n",
    "\n",
    "  def __init__(self,name,gender):\n",
    "    self.name = name\n",
    "    self.gender = gender\n",
    "\n",
    "# outside the class -> function\n",
    "def greet(person):\n",
    "  print('Hi my name is',person.name,'and I am a',person.gender)\n",
    "  p1 = Person('shikhar','male')\n",
    "  return p1\n",
    "\n",
    "p = Person('Utkarsh','male')\n",
    "x = greet(p)\n",
    "print(x.name)\n",
    "print(x.gender)"
   ]
  },
  {
   "cell_type": "code",
   "execution_count": 3,
   "id": "4c90bb3c",
   "metadata": {
    "scrolled": true
   },
   "outputs": [
    {
     "name": "stdout",
     "output_type": "stream",
     "text": [
      "2154969921280\n",
      "2154969921280\n",
      "Hi my name is Utkarsh and I am a male\n",
      "Utkarsh\n"
     ]
    }
   ],
   "source": [
    "class Person:\n",
    "\n",
    "  def __init__(self,name,gender):\n",
    "    self.name = name\n",
    "    self.gender = gender\n",
    "\n",
    "# outside the class -> function\n",
    "def greet(person):\n",
    "    print(id(person))\n",
    "    print('Hi my name is',person.name,'and I am a',person.gender)\n",
    "    p1 = Person('shikhar','male')\n",
    "    return p1\n",
    "\n",
    "p = Person('Utkarsh','male')\n",
    "print(id(p))\n",
    "greet(p)\n",
    "print(p.name)"
   ]
  },
  {
   "cell_type": "code",
   "execution_count": 4,
   "id": "e8ea3651",
   "metadata": {},
   "outputs": [],
   "source": [
    "#from here we can conclude that we pass an object address as a reference in a class"
   ]
  },
  {
   "cell_type": "markdown",
   "id": "bd8ae010",
   "metadata": {},
   "source": [
    "### Mutability of object"
   ]
  },
  {
   "cell_type": "code",
   "execution_count": 6,
   "id": "aebbd64d",
   "metadata": {},
   "outputs": [
    {
     "name": "stdout",
     "output_type": "stream",
     "text": [
      "2154969908752\n",
      "2154969908752\n"
     ]
    }
   ],
   "source": [
    "class Person:\n",
    "\n",
    "  def __init__(self,name,gender):\n",
    "    self.name = name\n",
    "    self.gender = gender\n",
    "\n",
    "# outside the class -> function\n",
    "def greet(person):\n",
    "  person.name = 'utk'\n",
    "  return person\n",
    "\n",
    "p = Person('shik','male')\n",
    "print(id(p))\n",
    "p1 = greet(p)\n",
    "print(id(p1))\n",
    "## Conclusion is all the user defined class in a object are mutable"
   ]
  },
  {
   "cell_type": "code",
   "execution_count": 5,
   "id": "2227b113",
   "metadata": {},
   "outputs": [
    {
     "name": "stdout",
     "output_type": "stream",
     "text": [
      "2154969986000\n",
      "2154969986000\n",
      "utk\n",
      "utk\n"
     ]
    }
   ],
   "source": [
    "class Person:\n",
    "\n",
    "  def __init__(self,name,gender):\n",
    "    self.name = name\n",
    "    self.gender = gender\n",
    "\n",
    "# outside the class -> function\n",
    "def greet(person):\n",
    "    print(id(person))\n",
    "    person.name = 'utk'\n",
    "    ##return person\n",
    "    print(person.name)\n",
    "\n",
    "p = Person('shik','male')\n",
    "print(id(p))\n",
    "greet(p)\n",
    "print(p.name)"
   ]
  },
  {
   "cell_type": "code",
   "execution_count": null,
   "id": "f0e7c79a",
   "metadata": {},
   "outputs": [],
   "source": []
  }
 ],
 "metadata": {
  "kernelspec": {
   "display_name": "Python 3 (ipykernel)",
   "language": "python",
   "name": "python3"
  },
  "language_info": {
   "codemirror_mode": {
    "name": "ipython",
    "version": 3
   },
   "file_extension": ".py",
   "mimetype": "text/x-python",
   "name": "python",
   "nbconvert_exporter": "python",
   "pygments_lexer": "ipython3",
   "version": "3.10.9"
  }
 },
 "nbformat": 4,
 "nbformat_minor": 5
}
